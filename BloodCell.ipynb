{
  "nbformat": 4,
  "nbformat_minor": 0,
  "metadata": {
    "colab": {
      "name": "BloodCell.ipynb",
      "provenance": [],
      "collapsed_sections": []
    },
    "kernelspec": {
      "name": "python3",
      "display_name": "Python 3"
    },
    "accelerator": "GPU"
  },
  "cells": [
    {
      "cell_type": "code",
      "metadata": {
        "id": "pjdeUESUMeBc",
        "colab_type": "code",
        "outputId": "66163af9-10b5-4c99-a0d3-410a05233a4a",
        "colab": {
          "base_uri": "https://localhost:8080/",
          "height": 156
        }
      },
      "source": [
        "!git clone https://github.com/mohanrajmit/bloodcell.git"
      ],
      "execution_count": 2,
      "outputs": [
        {
          "output_type": "stream",
          "text": [
            "Cloning into 'bloodcell'...\n",
            "remote: Enumerating objects: 13251, done.\u001b[K\n",
            "remote: Counting objects:   0% (1/13251)\u001b[K\rremote: Counting objects:   1% (133/13251)\u001b[K\rremote: Counting objects:   2% (266/13251)\u001b[K\rremote: Counting objects:   3% (398/13251)\u001b[K\rremote: Counting objects:   4% (531/13251)\u001b[K\rremote: Counting objects:   5% (663/13251)\u001b[K\rremote: Counting objects:   6% (796/13251)\u001b[K\rremote: Counting objects:   7% (928/13251)\u001b[K\rremote: Counting objects:   8% (1061/13251)\u001b[K\rremote: Counting objects:   9% (1193/13251)\u001b[K\rremote: Counting objects:  10% (1326/13251)\u001b[K\rremote: Counting objects:  11% (1458/13251)\u001b[K\rremote: Counting objects:  12% (1591/13251)\u001b[K\rremote: Counting objects:  13% (1723/13251)\u001b[K\rremote: Counting objects:  14% (1856/13251)\u001b[K\rremote: Counting objects:  15% (1988/13251)\u001b[K\rremote: Counting objects:  16% (2121/13251)\u001b[K\rremote: Counting objects:  17% (2253/13251)\u001b[K\rremote: Counting objects:  18% (2386/13251)\u001b[K\rremote: Counting objects:  19% (2518/13251)\u001b[K\rremote: Counting objects:  20% (2651/13251)\u001b[K\rremote: Counting objects:  21% (2783/13251)\u001b[K\rremote: Counting objects:  22% (2916/13251)\u001b[K\rremote: Counting objects:  23% (3048/13251)\u001b[K\rremote: Counting objects:  24% (3181/13251)\u001b[K\rremote: Counting objects:  25% (3313/13251)\u001b[K\rremote: Counting objects:  26% (3446/13251)\u001b[K\rremote: Counting objects:  27% (3578/13251)\u001b[K\rremote: Counting objects:  28% (3711/13251)\u001b[K\rremote: Counting objects:  29% (3843/13251)\u001b[K\rremote: Counting objects:  30% (3976/13251)\u001b[K\rremote: Counting objects:  31% (4108/13251)\u001b[K\rremote: Counting objects:  32% (4241/13251)\u001b[K\rremote: Counting objects:  33% (4373/13251)\u001b[K\rremote: Counting objects:  34% (4506/13251)\u001b[K\rremote: Counting objects:  35% (4638/13251)\u001b[K\rremote: Counting objects:  36% (4771/13251)\u001b[K\rremote: Counting objects:  37% (4903/13251)\u001b[K\rremote: Counting objects:  38% (5036/13251)\u001b[K\rremote: Counting objects:  39% (5168/13251)\u001b[K\rremote: Counting objects:  40% (5301/13251)\u001b[K\rremote: Counting objects:  41% (5433/13251)\u001b[K\rremote: Counting objects:  42% (5566/13251)\u001b[K\rremote: Counting objects:  43% (5698/13251)\u001b[K\rremote: Counting objects:  44% (5831/13251)\u001b[K\rremote: Counting objects:  45% (5963/13251)\u001b[K\rremote: Counting objects:  46% (6096/13251)\u001b[K\rremote: Counting objects:  47% (6228/13251)\u001b[K\rremote: Counting objects:  48% (6361/13251)\u001b[K\rremote: Counting objects:  49% (6493/13251)\u001b[K\rremote: Counting objects:  50% (6626/13251)\u001b[K\rremote: Counting objects:  51% (6759/13251)\u001b[K\rremote: Counting objects:  52% (6891/13251)\u001b[K\rremote: Counting objects:  53% (7024/13251)\u001b[K\rremote: Counting objects:  54% (7156/13251)\u001b[K\rremote: Counting objects:  55% (7289/13251)\u001b[K\rremote: Counting objects:  56% (7421/13251)\u001b[K\rremote: Counting objects:  57% (7554/13251)\u001b[K\rremote: Counting objects:  58% (7686/13251)\u001b[K\rremote: Counting objects:  59% (7819/13251)\u001b[K\rremote: Counting objects:  60% (7951/13251)\u001b[K\rremote: Counting objects:  61% (8084/13251)\u001b[K\rremote: Counting objects:  62% (8216/13251)\u001b[K\rremote: Counting objects:  63% (8349/13251)\u001b[K\rremote: Counting objects:  64% (8481/13251)\u001b[K\rremote: Counting objects:  65% (8614/13251)\u001b[K\rremote: Counting objects:  66% (8746/13251)\u001b[K\rremote: Counting objects:  67% (8879/13251)\u001b[K\rremote: Counting objects:  68% (9011/13251)\u001b[K\rremote: Counting objects:  69% (9144/13251)\u001b[K\rremote: Counting objects:  70% (9276/13251)\u001b[K\rremote: Counting objects:  71% (9409/13251)\u001b[K\rremote: Counting objects:  72% (9541/13251)\u001b[K\rremote: Counting objects:  73% (9674/13251)\u001b[K\rremote: Counting objects:  74% (9806/13251)\u001b[K\rremote: Counting objects:  75% (9939/13251)\u001b[K\rremote: Counting objects:  76% (10071/13251)\u001b[K\rremote: Counting objects:  77% (10204/13251)\u001b[K\rremote: Counting objects:  78% (10336/13251)\u001b[K\rremote: Counting objects:  79% (10469/13251)\u001b[K\rremote: Counting objects:  80% (10601/13251)\u001b[K\rremote: Counting objects:  81% (10734/13251)\u001b[K\rremote: Counting objects:  82% (10866/13251)\u001b[K\rremote: Counting objects:  83% (10999/13251)\u001b[K\rremote: Counting objects:  84% (11131/13251)\u001b[K\rremote: Counting objects:  85% (11264/13251)\u001b[K\rremote: Counting objects:  86% (11396/13251)\u001b[K\rremote: Counting objects:  87% (11529/13251)\u001b[K\rremote: Counting objects:  88% (11661/13251)\u001b[K\rremote: Counting objects:  89% (11794/13251)\u001b[K\rremote: Counting objects:  90% (11926/13251)\u001b[K\rremote: Counting objects:  91% (12059/13251)\u001b[K\rremote: Counting objects:  92% (12191/13251)\u001b[K\rremote: Counting objects:  93% (12324/13251)\u001b[K\rremote: Counting objects:  94% (12456/13251)\u001b[K\rremote: Counting objects:  95% (12589/13251)\u001b[K\rremote: Counting objects:  96% (12721/13251)\u001b[K\rremote: Counting objects:  97% (12854/13251)\u001b[K\rremote: Counting objects:  98% (12986/13251)\u001b[K\rremote: Counting objects:  99% (13119/13251)\u001b[K\rremote: Counting objects: 100% (13251/13251)\u001b[K\rremote: Counting objects: 100% (13251/13251), done.\u001b[K\n",
            "remote: Compressing objects: 100% (12907/12907), done.\u001b[K\n",
            "remote: Total 13251 (delta 341), reused 13248 (delta 341), pack-reused 0\u001b[K\n",
            "Receiving objects: 100% (13251/13251), 105.30 MiB | 32.82 MiB/s, done.\n",
            "Resolving deltas: 100% (341/341), done.\n",
            "Checking out files: 100% (12517/12517), done.\n"
          ],
          "name": "stdout"
        }
      ]
    },
    {
      "cell_type": "code",
      "metadata": {
        "id": "S_VGpk7q-nM_",
        "colab_type": "code",
        "colab": {
          "base_uri": "https://localhost:8080/",
          "height": 34
        },
        "outputId": "d16237eb-b345-4e05-e44e-8ce6937e8d04"
      },
      "source": [
        "!ls /content/bloodcell/dataset/images"
      ],
      "execution_count": 3,
      "outputs": [
        {
          "output_type": "stream",
          "text": [
            "TEST  TEST_SIMPLE  TRAIN\n"
          ],
          "name": "stdout"
        }
      ]
    },
    {
      "cell_type": "code",
      "metadata": {
        "id": "jO4ZnOP9MnHF",
        "colab_type": "code",
        "outputId": "3bd287cb-5fd8-4f9d-a49c-b8454603e492",
        "colab": {
          "base_uri": "https://localhost:8080/",
          "height": 899
        }
      },
      "source": [
        "from keras.models import Sequential\n",
        "from keras.layers import Dense, Conv2D, Dropout, MaxPool2D, Flatten\n",
        "from keras.applications import vgg16\n",
        "from keras.preprocessing import image\n",
        "\n",
        "samples = 9957\n",
        "batch_size = 16\n",
        "\n",
        "#run predictions:\n",
        "generator = image.ImageDataGenerator(\n",
        "        rescale = 1./255,\n",
        "        featurewise_center=False,  # set input mean to 0 over the dataset\n",
        "        samplewise_center=False,  # set each sample mean to 0\n",
        "        featurewise_std_normalization=False,  # divide inputs by std of the dataset\n",
        "        samplewise_std_normalization=False,  # divide each input by its std\n",
        "        zca_whitening=False,  # apply ZCA whitening\n",
        "        rotation_range=10,  # randomly rotate images in the range (degrees, 0 to 180)\n",
        "        width_shift_range=0.1,  # randomly shift images horizontally (fraction of total width)\n",
        "        height_shift_range=0.1,  # randomly shift images vertically (fraction of total height)\n",
        "        horizontal_flip=True,  # randomly flip images\n",
        "        vertical_flip=False)\n",
        "\n",
        "dataset = generator.flow_from_directory(\n",
        "    shuffle = True,\n",
        "    batch_size = 32,\n",
        "    target_size = (80, 80),\n",
        "    directory = '/content/bloodcell/dataset/images/TRAIN'\n",
        ")\n",
        "\n",
        "def model():\n",
        "    model = Sequential()\n",
        "    model.add(Conv2D(80, (3,3), strides = (1, 1), activation = 'relu', input_shape = (80, 80, 3)))\n",
        "    model.add(Conv2D(64, (3,3), strides = (1, 1), activation = 'relu', input_shape = (80, 80, 3)))\n",
        "    model.add(MaxPool2D(pool_size = (2,2)))\n",
        "    model.add(Conv2D(64, (3,3), strides = (1,1), activation = 'relu'))\n",
        "    model.add(Dropout(0.25))\n",
        "    model.add(Flatten())\n",
        "\n",
        "    model.add(Dense(128, activation = 'relu'))\n",
        "    model.add(Dropout(0.5))\n",
        "    model.add(Dense(4, activation = 'softmax'))\n",
        "\n",
        "    model.compile(loss = 'categorical_crossentropy', optimizer = 'adadelta', metrics = ['accuracy'])\n",
        "    \n",
        "    return model\n",
        "\n",
        "nn = model()\n",
        "nn.fit_generator(dataset, steps_per_epoch = None, epochs = 30, verbose = 1)\n",
        "nn.save('Model.h5')\n"
      ],
      "execution_count": 0,
      "outputs": [
        {
          "output_type": "stream",
          "text": [
            "Using TensorFlow backend.\n"
          ],
          "name": "stderr"
        },
        {
          "output_type": "display_data",
          "data": {
            "text/html": [
              "<p style=\"color: red;\">\n",
              "The default version of TensorFlow in Colab will soon switch to TensorFlow 2.x.<br>\n",
              "We recommend you <a href=\"https://www.tensorflow.org/guide/migrate\" target=\"_blank\">upgrade</a> now \n",
              "or ensure your notebook will continue to use TensorFlow 1.x via the <code>%tensorflow_version 1.x</code> magic:\n",
              "<a href=\"https://colab.research.google.com/notebooks/tensorflow_version.ipynb\" target=\"_blank\">more info</a>.</p>\n"
            ],
            "text/plain": [
              "<IPython.core.display.HTML object>"
            ]
          },
          "metadata": {
            "tags": []
          }
        },
        {
          "output_type": "stream",
          "text": [
            "Found 9957 images belonging to 4 classes.\n",
            "WARNING:tensorflow:From /usr/local/lib/python3.6/dist-packages/keras/backend/tensorflow_backend.py:66: The name tf.get_default_graph is deprecated. Please use tf.compat.v1.get_default_graph instead.\n",
            "\n",
            "WARNING:tensorflow:From /usr/local/lib/python3.6/dist-packages/keras/backend/tensorflow_backend.py:541: The name tf.placeholder is deprecated. Please use tf.compat.v1.placeholder instead.\n",
            "\n",
            "WARNING:tensorflow:From /usr/local/lib/python3.6/dist-packages/keras/backend/tensorflow_backend.py:4432: The name tf.random_uniform is deprecated. Please use tf.random.uniform instead.\n",
            "\n",
            "WARNING:tensorflow:From /usr/local/lib/python3.6/dist-packages/keras/backend/tensorflow_backend.py:4267: The name tf.nn.max_pool is deprecated. Please use tf.nn.max_pool2d instead.\n",
            "\n",
            "WARNING:tensorflow:From /usr/local/lib/python3.6/dist-packages/keras/backend/tensorflow_backend.py:148: The name tf.placeholder_with_default is deprecated. Please use tf.compat.v1.placeholder_with_default instead.\n",
            "\n",
            "WARNING:tensorflow:From /usr/local/lib/python3.6/dist-packages/keras/backend/tensorflow_backend.py:3733: calling dropout (from tensorflow.python.ops.nn_ops) with keep_prob is deprecated and will be removed in a future version.\n",
            "Instructions for updating:\n",
            "Please use `rate` instead of `keep_prob`. Rate should be set to `rate = 1 - keep_prob`.\n",
            "WARNING:tensorflow:From /usr/local/lib/python3.6/dist-packages/keras/optimizers.py:793: The name tf.train.Optimizer is deprecated. Please use tf.compat.v1.train.Optimizer instead.\n",
            "\n",
            "WARNING:tensorflow:From /usr/local/lib/python3.6/dist-packages/keras/backend/tensorflow_backend.py:3576: The name tf.log is deprecated. Please use tf.math.log instead.\n",
            "\n",
            "WARNING:tensorflow:From /usr/local/lib/python3.6/dist-packages/tensorflow_core/python/ops/math_grad.py:1424: where (from tensorflow.python.ops.array_ops) is deprecated and will be removed in a future version.\n",
            "Instructions for updating:\n",
            "Use tf.where in 2.0, which has the same broadcast rule as np.where\n",
            "WARNING:tensorflow:From /usr/local/lib/python3.6/dist-packages/keras/backend/tensorflow_backend.py:1033: The name tf.assign_add is deprecated. Please use tf.compat.v1.assign_add instead.\n",
            "\n",
            "WARNING:tensorflow:From /usr/local/lib/python3.6/dist-packages/keras/backend/tensorflow_backend.py:1020: The name tf.assign is deprecated. Please use tf.compat.v1.assign instead.\n",
            "\n",
            "WARNING:tensorflow:From /usr/local/lib/python3.6/dist-packages/keras/backend/tensorflow_backend.py:3005: The name tf.Session is deprecated. Please use tf.compat.v1.Session instead.\n",
            "\n",
            "Epoch 1/30\n",
            "WARNING:tensorflow:From /usr/local/lib/python3.6/dist-packages/keras/backend/tensorflow_backend.py:190: The name tf.get_default_session is deprecated. Please use tf.compat.v1.get_default_session instead.\n",
            "\n",
            "WARNING:tensorflow:From /usr/local/lib/python3.6/dist-packages/keras/backend/tensorflow_backend.py:197: The name tf.ConfigProto is deprecated. Please use tf.compat.v1.ConfigProto instead.\n",
            "\n",
            "WARNING:tensorflow:From /usr/local/lib/python3.6/dist-packages/keras/backend/tensorflow_backend.py:207: The name tf.global_variables is deprecated. Please use tf.compat.v1.global_variables instead.\n",
            "\n",
            "WARNING:tensorflow:From /usr/local/lib/python3.6/dist-packages/keras/backend/tensorflow_backend.py:216: The name tf.is_variable_initialized is deprecated. Please use tf.compat.v1.is_variable_initialized instead.\n",
            "\n",
            "WARNING:tensorflow:From /usr/local/lib/python3.6/dist-packages/keras/backend/tensorflow_backend.py:223: The name tf.variables_initializer is deprecated. Please use tf.compat.v1.variables_initializer instead.\n",
            "\n",
            "312/312 [==============================] - 50s 159ms/step - loss: 1.4319 - acc: 0.2439\n",
            "Epoch 2/30\n",
            "312/312 [==============================] - 41s 130ms/step - loss: 1.3881 - acc: 0.2573\n",
            "Epoch 3/30\n",
            "312/312 [==============================] - 45s 143ms/step - loss: 1.3556 - acc: 0.3248\n",
            "Epoch 4/30\n",
            "123/312 [==========>...................] - ETA: 27s - loss: 1.2912 - acc: 0.3808"
          ],
          "name": "stdout"
        }
      ]
    },
    {
      "cell_type": "code",
      "metadata": {
        "id": "liiJLdb8N7Bb",
        "colab_type": "code",
        "outputId": "c7bdf06e-b36e-4db0-9130-ddefea049542",
        "colab": {
          "base_uri": "https://localhost:8080/",
          "height": 34
        }
      },
      "source": [
        "!du -h Features.npy"
      ],
      "execution_count": 0,
      "outputs": [
        {
          "output_type": "stream",
          "text": [
            "622M\tFeatures.npy\r\n"
          ],
          "name": "stdout"
        }
      ]
    },
    {
      "cell_type": "code",
      "metadata": {
        "id": "uUTkTnDwO-u2",
        "colab_type": "code",
        "colab": {}
      },
      "source": [
        "from google.colab import files\n",
        "files.download('Model.h5')"
      ],
      "execution_count": 0,
      "outputs": []
    },
    {
      "cell_type": "code",
      "metadata": {
        "id": "nzk4aHmMfNQs",
        "colab_type": "code",
        "outputId": "5fe3fd34-e8fc-4d4f-9233-a50252f6d8f1",
        "colab": {
          "base_uri": "https://localhost:8080/",
          "height": 85
        }
      },
      "source": [
        "from keras.models import load_model\n",
        "import numpy\n",
        "import os\n",
        "from PIL import Image\n",
        "\n",
        "model = load_model('Model.h5')\n",
        "\n",
        "#demo code check for EOSINOPHIL\n",
        "\n",
        "correct = 0\n",
        "wrong = 0\n",
        "total = 0\n",
        "\n",
        "for file in os.listdir('/content/bloodcell/dataset/images/TRAIN/EOSINOPHIL'):\n",
        "  image = Image.open('/content/bloodcell/dataset/images/TRAIN/EOSINOPHIL/'+file)\n",
        "  image = image.resize((80, 80))\n",
        "  image = numpy.array(image, dtype = 'float32')\n",
        "  image/=255\n",
        "  image = image.reshape(1, 80, 80, 3)\n",
        "  prediction = model.predict(image)\n",
        "  #print(numpy.argmax(prediction))\n",
        "  if numpy.argmax(prediction) == 0: correct+=1\n",
        "  else: wrong+=1\n",
        "  total+=1\n",
        "\n",
        "print('EOSINOPHIL :::: Result : ', 'Correct prediction %: ', (correct/total)*100, 'Wrong prediction : %', (wrong/total)*100)\n",
        "\n",
        "\n",
        "#demo code check for LYMPHOCYTE\n",
        "\n",
        "correct = 0\n",
        "wrong = 0\n",
        "total = 0\n",
        "\n",
        "for file in os.listdir('/content/bloodcell/dataset/images/TRAIN/LYMPHOCYTE'):\n",
        "  image = Image.open('/content/bloodcell/dataset/images/TRAIN/LYMPHOCYTE/'+file)\n",
        "  image = image.resize((80, 80))\n",
        "  image = numpy.array(image, dtype = 'float32')\n",
        "  image/=255\n",
        "  image = image.reshape(1, 80, 80, 3)\n",
        "  prediction = model.predict(image)\n",
        "  #print(numpy.argmax(prediction))\n",
        "  if numpy.argmax(prediction) == 1: correct+=1\n",
        "  else: wrong+=1\n",
        "  total+=1\n",
        "\n",
        "print('LYMPHOCYTE :::: Result : ', 'Correct prediction %: ', (correct/total)*100, 'Wrong prediction : %', (wrong/total)*100)\n",
        "\n",
        "#demo code check for MONOCYTE\n",
        "\n",
        "correct = 0\n",
        "wrong = 0\n",
        "total = 0\n",
        "\n",
        "for file in os.listdir('/content/bloodcell/dataset/images/TRAIN/MONOCYTE'):\n",
        "  image = Image.open('/content/bloodcell/dataset/images/TRAIN/MONOCYTE/'+file)\n",
        "  image = image.resize((80, 80))\n",
        "  image = numpy.array(image, dtype = 'float32')\n",
        "  image/=255\n",
        "  image = image.reshape(1, 80, 80, 3)\n",
        "  prediction = model.predict(image)\n",
        "  #print(numpy.argmax(prediction))\n",
        "  if numpy.argmax(prediction) == 2: correct+=1\n",
        "  else: wrong+=1\n",
        "  total+=1\n",
        "\n",
        "print('MONOCYTE :::: Result : ', 'Correct prediction %: ', (correct/total)*100, 'Wrong prediction : %', (wrong/total)*100)\n",
        "\n",
        "\n",
        "#demo code check for NEUTROPHIL\n",
        "\n",
        "correct = 0\n",
        "wrong = 0\n",
        "total = 0\n",
        "\n",
        "for file in os.listdir('/content/bloodcell/dataset/images/TRAIN/NEUTROPHIL'):\n",
        "  image = Image.open('/content/bloodcell/dataset/images/TRAIN/NEUTROPHIL/'+file)\n",
        "  image = image.resize((80, 80))\n",
        "  image = numpy.array(image, dtype = 'float32')\n",
        "  image/=255\n",
        "  image = image.reshape(1, 80, 80, 3)\n",
        "  prediction = model.predict(image)\n",
        "  #print(numpy.argmax(prediction))\n",
        "  if numpy.argmax(prediction) == 3: correct+=1\n",
        "  else: wrong+=1\n",
        "  total+=1\n",
        "\n",
        "print('NEUTROPHIL ::: Result : ', 'Correct prediction %: ', (correct/total)*100, 'Wrong prediction : %', (wrong/total)*100)"
      ],
      "execution_count": 0,
      "outputs": [
        {
          "output_type": "stream",
          "text": [
            "EOSINOPHIL :::: Result :  Correct prediction %:  95.83500200240287 Wrong prediction : % 4.1649979975971165\n",
            "LYMPHOCYTE :::: Result :  Correct prediction %:  99.79863068868305 Wrong prediction : % 0.20136931131695532\n",
            "MONOCYTE :::: Result :  Correct prediction %:  98.95076674737692 Wrong prediction : % 1.0492332526230832\n",
            "NEUTROPHIL ::: Result :  Correct prediction %:  87.63505402160864 Wrong prediction : % 12.364945978391356\n"
          ],
          "name": "stdout"
        }
      ]
    }
  ]
}